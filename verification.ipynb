{
 "cells": [
  {
   "cell_type": "code",
   "execution_count": 3,
   "metadata": {},
   "outputs": [
    {
     "name": "stdout",
     "output_type": "stream",
     "text": [
      "0.012755400000003192\n",
      "0.009730799999999817\n",
      "0.009543000000000745\n"
     ]
    }
   ],
   "source": [
    "import time\n",
    "\n",
    "def test_time(iters, func):\n",
    "    s = time.clock()\n",
    "    a = 1234\n",
    "    for i in range(10000, 10000+iters):\n",
    "        res = func(i, a)\n",
    "    e = time.clock()\n",
    "    return e-s\n",
    "\n",
    "mod = lambda a,b:a%b\n",
    "mul = lambda a,b:a*b\n",
    "div = lambda a,b:a/b\n",
    "print(test_time(100000, mod))\n",
    "print(test_time(100000, mul))\n",
    "print(test_time(100000, div))"
   ]
  },
  {
   "cell_type": "code",
   "execution_count": 5,
   "metadata": {},
   "outputs": [
    {
     "name": "stdout",
     "output_type": "stream",
     "text": [
      "13\n"
     ]
    }
   ],
   "source": [
    "a = 12\n",
    "print(a|1)"
   ]
  },
  {
   "cell_type": "code",
   "execution_count": null,
   "metadata": {},
   "outputs": [],
   "source": []
  }
 ],
 "metadata": {
  "kernelspec": {
   "display_name": "Python 3",
   "language": "python",
   "name": "python3"
  },
  "language_info": {
   "codemirror_mode": {
    "name": "ipython",
    "version": 3
   },
   "file_extension": ".py",
   "mimetype": "text/x-python",
   "name": "python",
   "nbconvert_exporter": "python",
   "pygments_lexer": "ipython3",
   "version": "3.6.5"
  }
 },
 "nbformat": 4,
 "nbformat_minor": 2
}
